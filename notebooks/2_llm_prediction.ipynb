{
 "cells": [
  {
   "cell_type": "code",
   "execution_count": 4,
   "metadata": {},
   "outputs": [],
   "source": [
    "import re\n",
    "from langchain_community.llms import Ollama\n",
    "from langchain.prompts import PromptTemplate\n",
    "import pandas as pd\n",
    "from langchain_core.output_parsers import StrOutputParser\n",
    "import statistics\n",
    "import timeout_decorator\n",
    "import time\n",
    "import numpy as np"
   ]
  },
  {
   "cell_type": "code",
   "execution_count": 5,
   "metadata": {},
   "outputs": [],
   "source": [
    "from langchain_core.messages import HumanMessage, SystemMessage\n",
    "from langchain_core.prompts.chat import (\n",
    "    ChatPromptTemplate,\n",
    "    HumanMessagePromptTemplate,\n",
    "    SystemMessagePromptTemplate,\n",
    ")\n",
    "from langchain.prompts import PromptTemplate\n",
    "from langchain_openai import ChatOpenAI\n",
    "import sys, os\n",
    "\n",
    "import configparser\n",
    "\n",
    "credential_file = \"credentials.ini\"\n",
    "credential_config = configparser.ConfigParser()\n",
    "credential_config.read(credential_file)\n",
    "\n",
    "ISDM_API_KEY = credential_config['ISDM'][\"ISDM_API_KEY\"]\n",
    "\n",
    "# Set the environment variables from shell environment\n",
    "OPENAI_API_KEY = ISDM_API_KEY\n",
    "OPENAI_CHAT_MODEL = \"solidrust/Codestral-22B-v0.1-hf-AWQ\"\n",
    "OPENAI_CHAT_API_URL = \"https://isdm-chat.crocc.meso.umontpellier.fr/openai\"\n",
    "model = OPENAI_CHAT_MODEL\n",
    "\n",
    "llm = ChatOpenAI(\n",
    "    model=OPENAI_CHAT_MODEL,\n",
    "    openai_api_key=OPENAI_API_KEY,\n",
    "    openai_api_base=OPENAI_CHAT_API_URL,\n",
    ")\n",
    "\n",
    "from langchain_core.output_parsers import StrOutputParser\n",
    "parser = StrOutputParser()"
   ]
  },
  {
   "cell_type": "code",
   "execution_count": 6,
   "metadata": {},
   "outputs": [],
   "source": [
    "template = \"\"\"\n",
    "You are a statician working for the European commission at EUROSTAT. \n",
    "You have to give the average income per inhabitant by NUTS_2 levels.\n",
    "Don't compute it, just guess the income.\n",
    "Only answer with the average income (not a range, just the income) without any other words.\n",
    "Example of answer: \"30000\", with no thousands separator.\n",
    "\n",
    "Question: What is the average income per inhabitant for {NUTS_ID}\n",
    "\"\"\"\n",
    "\n",
    "prompt = PromptTemplate.from_template(template)\n",
    "# result = prompt.format(NUTS_ID = \"Auvergne\")\n",
    "# result\n"
   ]
  },
  {
   "cell_type": "code",
   "execution_count": 7,
   "metadata": {},
   "outputs": [],
   "source": [
    "chain = prompt | llm | parser\n",
    "\n",
    "@timeout_decorator.timeout(10, use_signals=False)  # Set the timeout to 10 seconds\n",
    "def invoke_with_timeout(NUTS_ID):\n",
    "    return chain.invoke({\"NUTS_ID\": NUTS_ID})\n",
    "\n",
    "def prediction(NUTS_ID):\n",
    "    try:\n",
    "        result = invoke_with_timeout(NUTS_ID)  # Try to invoke within the timeout\n",
    "    except timeout_decorator.timeout_decorator.TimeoutError:\n",
    "        print(f\"Timeout occurred for NUTS_ID: {NUTS_ID}. Retrying...\")\n",
    "        time.sleep(2)  # Optional sleep time before retrying\n",
    "        try:\n",
    "            result = invoke_with_timeout(NUTS_ID)  # Retry the operation\n",
    "        except:\n",
    "            return np.nan\n",
    "    number = re.search(r'\\d+', result).group()\n",
    "    number = int(number)\n",
    "    return number\n",
    "\n",
    "def average_prediction(NUTS_ID):\n",
    "    number_prediction = 3\n",
    "    predictions = []\n",
    "\n",
    "    for _ in range(number_prediction):\n",
    "        prediction_value = prediction(NUTS_ID)\n",
    "        predictions.append(prediction_value)\n",
    "\n",
    "    # Filter out np.nan values from predictions\n",
    "    predictions = [p for p in predictions if not np.isnan(p)]\n",
    "\n",
    "    if predictions:  \n",
    "        average = sum(predictions) / len(predictions)\n",
    "        deviation = statistics.stdev(predictions) if len(predictions) > 1 else 0  \n",
    "    else:\n",
    "        average, deviation = np.nan, np.nan \n",
    "\n",
    "    return average, deviation"
   ]
  },
  {
   "cell_type": "code",
   "execution_count": 8,
   "metadata": {},
   "outputs": [
    {
     "name": "stdout",
     "output_type": "stream",
     "text": [
      "Timeout occurred for NUTS_ID: Auvergne. Retrying...\n"
     ]
    },
    {
     "data": {
      "text/plain": [
       "35000"
      ]
     },
     "execution_count": 8,
     "metadata": {},
     "output_type": "execute_result"
    }
   ],
   "source": [
    "result = prediction(\"Auvergne\")\n",
    "result"
   ]
  },
  {
   "cell_type": "code",
   "execution_count": 9,
   "metadata": {},
   "outputs": [
    {
     "data": {
      "text/plain": [
       "(37333.333333333336, 6806.8592855540455)"
      ]
     },
     "execution_count": 9,
     "metadata": {},
     "output_type": "execute_result"
    }
   ],
   "source": [
    "result = average_prediction(\"Ile de France\")\n",
    "result"
   ]
  },
  {
   "attachments": {},
   "cell_type": "markdown",
   "metadata": {},
   "source": [
    "## Load data from Eurostats"
   ]
  },
  {
   "cell_type": "code",
   "execution_count": 12,
   "metadata": {},
   "outputs": [],
   "source": [
    "import pandas as pd\n",
    "\n",
    "year = 2017\n",
    "NUTS_Level = 2\n",
    "\n",
    "df = pd.read_csv(f\"./output/gdp_{year}_nuts_{NUTS_Level}.csv\")"
   ]
  },
  {
   "cell_type": "code",
   "execution_count": 18,
   "metadata": {},
   "outputs": [
    {
     "data": {
      "text/plain": [
       "array(['Austria', 'Albania', 'Belgium', 'Bulgaria', 'Switzerland',\n",
       "       'Czechia', 'Cyprus', 'Germany', 'Denmark', 'Unknown', 'Estonia',\n",
       "       'Spain', 'France', 'Finland', 'Croatia', 'Hungary', 'Italy',\n",
       "       'Ireland', 'Norway', 'Netherlands', 'Montenegro',\n",
       "       'North Macedonia', 'Lithuania', 'Malta', 'Luxembourg', 'Latvia',\n",
       "       'Romania', 'Poland', 'Portugal', 'Serbia', 'Türkiye', 'Sweden',\n",
       "       'Slovakia', 'Slovenia'], dtype=object)"
      ]
     },
     "execution_count": 18,
     "metadata": {},
     "output_type": "execute_result"
    }
   ],
   "source": [
    "import pycountry\n",
    "\n",
    "df[\"country\"] = df[\"CNTR_CODE\"].apply(lambda code: pycountry.countries.get(alpha_2=code).name if pycountry.countries.get(alpha_2=code) else \"Unknown\")\n",
    "df[\"country\"].unique()"
   ]
  },
  {
   "cell_type": "code",
   "execution_count": null,
   "metadata": {},
   "outputs": [],
   "source": [
    "from tqdm import tqdm\n",
    "tqdm.pandas()\n",
    "\n",
    "df[[f\"{year}_predicted\", f\"{year}_deviation\"]] = df[\"NUTS_NAME\"].progress_apply(average_prediction).apply(pd.Series)\n"
   ]
  },
  {
   "cell_type": "code",
   "execution_count": null,
   "metadata": {},
   "outputs": [],
   "source": [
    "df.to_csv(f'./output/gdp_{year}_nuts_{NUTS_Level}_llm_{model.split(\"/\")[1].split(\"-\")[0]}.csv')"
   ]
  },
  {
   "cell_type": "code",
   "execution_count": null,
   "metadata": {},
   "outputs": [
    {
     "data": {
      "text/plain": [
       "0       35000\n",
       "1       27000\n",
       "2          11\n",
       "3          12\n",
       "4       25000\n",
       "        ...  \n",
       "1695    25000\n",
       "1696    25000\n",
       "1697    25000\n",
       "1698    25000\n",
       "1699    25000\n",
       "Name: 2017_predicted, Length: 1700, dtype: int64"
      ]
     },
     "execution_count": 12,
     "metadata": {},
     "output_type": "execute_result"
    }
   ],
   "source": [
    "df[\"2017_predicted\"]"
   ]
  },
  {
   "cell_type": "code",
   "execution_count": null,
   "metadata": {},
   "outputs": [],
   "source": []
  }
 ],
 "metadata": {
  "kernelspec": {
   "display_name": "Python 3",
   "language": "python",
   "name": "python3"
  },
  "language_info": {
   "codemirror_mode": {
    "name": "ipython",
    "version": 3
   },
   "file_extension": ".py",
   "mimetype": "text/x-python",
   "name": "python",
   "nbconvert_exporter": "python",
   "pygments_lexer": "ipython3",
   "version": "3.10.15"
  },
  "orig_nbformat": 4
 },
 "nbformat": 4,
 "nbformat_minor": 2
}
